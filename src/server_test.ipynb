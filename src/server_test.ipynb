{
 "cells": [
  {
   "cell_type": "code",
   "execution_count": 1,
   "id": "39c5b55f",
   "metadata": {},
   "outputs": [],
   "source": [
    "# !pip install fastapi uvicorn mysql-connector-python python-dotenv\n",
    "# !pip install watchgod"
   ]
  },
  {
   "cell_type": "code",
   "execution_count": null,
   "id": "b008d315",
   "metadata": {},
   "outputs": [],
   "source": [
    "import requests\n",
    "\n",
    "response = requests.get(\"http://localhost:3001/api/sales?year=2023\")\n",
    "if response.status_code == 200:\n",
    "    print(\"Monthly Sales:\", response.json())\n",
    "else:\n",
    "    print(\"Error:\", response.status_code, response.text)\n"
   ]
  },
  {
   "cell_type": "code",
   "execution_count": 2,
   "id": "cff9242f",
   "metadata": {},
   "outputs": [],
   "source": [
    "from fastapi import FastAPI, HTTPException\n",
    "from fastapi.middleware.cors import CORSMiddleware\n",
    "import mysql.connector\n",
    "from dotenv import load_dotenv\n",
    "import os\n",
    "\n",
    "load_dotenv()\n",
    "\n",
    "app = FastAPI()\n",
    "\n",
    "# Enable CORS (adjust origins as needed)\n",
    "app.add_middleware(\n",
    "    CORSMiddleware,\n",
    "    allow_origins=[\"*\"],  # In production, use the specific domain\n",
    "    allow_credentials=True,\n",
    "    allow_methods=[\"*\"],\n",
    "    allow_headers=[\"*\"],\n",
    ")\n",
    "\n",
    "# Database connection\n",
    "def get_connection():\n",
    "    return mysql.connector.connect(\n",
    "        host=os.getenv(\"DB_HOST\"),\n",
    "        user=os.getenv(\"DB_USER\"),\n",
    "        password=os.getenv(\"DB_PASSWORD\"),\n",
    "        database=os.getenv(\"DB_NAME\"),\n",
    "    )\n",
    "\n",
    "@app.get(\"/api/sales\")\n",
    "def get_sales_by_year(year: int):\n",
    "    try:\n",
    "        conn = get_connection()\n",
    "        cursor = conn.cursor(dictionary=True)\n",
    "\n",
    "        query = \"\"\"\n",
    "            SELECT \n",
    "              MONTH(date) AS month,\n",
    "              SUM(total_earn) AS total_earn\n",
    "            FROM sales\n",
    "            WHERE YEAR(date) = %s\n",
    "            GROUP BY MONTH(date)\n",
    "            ORDER BY MONTH(date);\n",
    "        \"\"\"\n",
    "        cursor.execute(query, (year,))\n",
    "        results = cursor.fetchall()\n",
    "\n",
    "        # Fill missing months with 0\n",
    "        monthly_totals = [0.0] * 12\n",
    "        for row in results:\n",
    "            monthly_totals[row[\"month\"] - 1] = float(row[\"total_earn\"])\n",
    "\n",
    "        return monthly_totals\n",
    "\n",
    "    except mysql.connector.Error as err:\n",
    "        print(\"MySQL Error:\", err)\n",
    "        raise HTTPException(status_code=500, detail=\"Database error\")\n",
    "    finally:\n",
    "        if cursor:\n",
    "            cursor.close()\n",
    "        if conn:\n",
    "            conn.close()\n"
   ]
  },
  {
   "cell_type": "code",
   "execution_count": null,
   "id": "82e930b1",
   "metadata": {},
   "outputs": [
    {
     "ename": "FileNotFoundError",
     "evalue": "[Errno 2] No such file or directory: 'inventory_data.csv'",
     "output_type": "error",
     "traceback": [
      "\u001b[31m---------------------------------------------------------------------------\u001b[39m",
      "\u001b[31mFileNotFoundError\u001b[39m                         Traceback (most recent call last)",
      "\u001b[36mCell\u001b[39m\u001b[36m \u001b[39m\u001b[32mIn[1]\u001b[39m\u001b[32m, line 8\u001b[39m\n\u001b[32m      5\u001b[39m csv_file = \u001b[33m\"\u001b[39m\u001b[33minventory_data.csv\u001b[39m\u001b[33m\"\u001b[39m\n\u001b[32m      6\u001b[39m json_file = \u001b[33m\"\u001b[39m\u001b[33minventory_data.json\u001b[39m\u001b[33m\"\u001b[39m\n\u001b[32m----> \u001b[39m\u001b[32m8\u001b[39m \u001b[38;5;28;01mwith\u001b[39;00m \u001b[38;5;28;43mopen\u001b[39;49m\u001b[43m(\u001b[49m\u001b[43mcsv_file\u001b[49m\u001b[43m,\u001b[49m\u001b[43m \u001b[49m\u001b[43mmode\u001b[49m\u001b[43m=\u001b[49m\u001b[33;43m'\u001b[39;49m\u001b[33;43mr\u001b[39;49m\u001b[33;43m'\u001b[39;49m\u001b[43m)\u001b[49m \u001b[38;5;28;01mas\u001b[39;00m f:\n\u001b[32m      9\u001b[39m     reader = csv.DictReader(f)\n\u001b[32m     10\u001b[39m     data = []\n",
      "\u001b[36mFile \u001b[39m\u001b[32mc:\\Users\\User\\anaconda3\\envs\\torch-cuda-12-8\\Lib\\site-packages\\IPython\\core\\interactiveshell.py:326\u001b[39m, in \u001b[36m_modified_open\u001b[39m\u001b[34m(file, *args, **kwargs)\u001b[39m\n\u001b[32m    319\u001b[39m \u001b[38;5;28;01mif\u001b[39;00m file \u001b[38;5;129;01min\u001b[39;00m {\u001b[32m0\u001b[39m, \u001b[32m1\u001b[39m, \u001b[32m2\u001b[39m}:\n\u001b[32m    320\u001b[39m     \u001b[38;5;28;01mraise\u001b[39;00m \u001b[38;5;167;01mValueError\u001b[39;00m(\n\u001b[32m    321\u001b[39m         \u001b[33mf\u001b[39m\u001b[33m\"\u001b[39m\u001b[33mIPython won\u001b[39m\u001b[33m'\u001b[39m\u001b[33mt let you open fd=\u001b[39m\u001b[38;5;132;01m{\u001b[39;00mfile\u001b[38;5;132;01m}\u001b[39;00m\u001b[33m by default \u001b[39m\u001b[33m\"\u001b[39m\n\u001b[32m    322\u001b[39m         \u001b[33m\"\u001b[39m\u001b[33mas it is likely to crash IPython. If you know what you are doing, \u001b[39m\u001b[33m\"\u001b[39m\n\u001b[32m    323\u001b[39m         \u001b[33m\"\u001b[39m\u001b[33myou can use builtins\u001b[39m\u001b[33m'\u001b[39m\u001b[33m open.\u001b[39m\u001b[33m\"\u001b[39m\n\u001b[32m    324\u001b[39m     )\n\u001b[32m--> \u001b[39m\u001b[32m326\u001b[39m \u001b[38;5;28;01mreturn\u001b[39;00m \u001b[43mio_open\u001b[49m\u001b[43m(\u001b[49m\u001b[43mfile\u001b[49m\u001b[43m,\u001b[49m\u001b[43m \u001b[49m\u001b[43m*\u001b[49m\u001b[43margs\u001b[49m\u001b[43m,\u001b[49m\u001b[43m \u001b[49m\u001b[43m*\u001b[49m\u001b[43m*\u001b[49m\u001b[43mkwargs\u001b[49m\u001b[43m)\u001b[49m\n",
      "\u001b[31mFileNotFoundError\u001b[39m: [Errno 2] No such file or directory: 'inventory_data.csv'"
     ]
    }
   ],
   "source": [
    "from fastapi import FastAPI, HTTPException\n",
    "from typing import List\n",
    "import mysql.connector\n",
    "from mysql.connector import errorcode\n",
    "from pydantic import BaseModel\n",
    "import os\n",
    "\n",
    "app = FastAPI()\n",
    "\n",
    "# Load your RDS connection info from environment variables or config\n",
    "RDS_HOST = os.getenv(\"RDS_HOST\", \"your-rds-host\")\n",
    "RDS_USER = os.getenv(\"RDS_USER\", \"your-username\")\n",
    "RDS_PASSWORD = os.getenv(\"RDS_PASSWORD\", \"your-password\")\n",
    "RDS_DB = os.getenv(\"RDS_DB\", \"your-database\")\n",
    "\n",
    "class ProductStock(BaseModel):\n",
    "    ProductID: str\n",
    "    Balance: int\n",
    "\n",
    "def get_db_connection():\n",
    "    try:\n",
    "        conn = mysql.connector.connect(\n",
    "            host=RDS_HOST,\n",
    "            user=RDS_USER,\n",
    "            password=RDS_PASSWORD,\n",
    "            database=RDS_DB\n",
    "        )\n",
    "        return conn\n",
    "    except mysql.connector.Error as err:\n",
    "        print(f\"Error connecting to DB: {err}\")\n",
    "        return None\n",
    "\n",
    "@app.get(\"/inventory/{store_id}\", response_model=List[ProductStock])\n",
    "def get_inventory(store_id: str):\n",
    "    conn = get_db_connection()\n",
    "    if not conn:\n",
    "        raise HTTPException(status_code=500, detail=\"Database connection error\")\n",
    "\n",
    "    cursor = conn.cursor(dictionary=True)\n",
    "\n",
    "    # Query to get latest date per store, and get all products' balances for that date\n",
    "    # Adjust table/column names to your actual schema\n",
    "    query = \"\"\"\n",
    "        SELECT ProductID, Balance FROM inventory_data\n",
    "        WHERE StoreID = %s\n",
    "          AND Date = (\n",
    "            SELECT MAX(Date) FROM inventory_data WHERE StoreID = %s\n",
    "          )\n",
    "        ORDER BY ProductID\n",
    "    \"\"\"\n",
    "\n",
    "    cursor.execute(query, (store_id, store_id))\n",
    "    results = cursor.fetchall()\n",
    "    cursor.close()\n",
    "    conn.close()\n",
    "\n",
    "    # Return list of dict {ProductID, Balance}\n",
    "    return [ProductStock(**row) for row in results]\n"
   ]
  },
  {
   "cell_type": "code",
   "execution_count": 1,
   "id": "e8243f2d",
   "metadata": {},
   "outputs": [],
   "source": [
    "import requests\n",
    "\n",
    "BASE_URL = \"http://127.0.0.1:3333\"\n",
    "\n",
    "def test_sales(year: int):\n",
    "    try:\n",
    "        response = requests.get(f\"{BASE_URL}/api/sales\", params={\"year\": year})\n",
    "        response.raise_for_status()\n",
    "        print(f\"\\n✅ Sales Data for {year}:\")\n",
    "        print(response.json())\n",
    "    except requests.exceptions.RequestException as e:\n",
    "        print(f\"❌ Error fetching sales data: {e}\")\n",
    "\n",
    "def test_inventory():\n",
    "    try:\n",
    "        response = requests.get(f\"{BASE_URL}/api/inventory\")\n",
    "        response.raise_for_status()\n",
    "        print(\"\\n✅ Inventory Data:\")\n",
    "        for record in response.json():\n",
    "            print(record)\n",
    "    except requests.exceptions.RequestException as e:\n",
    "        print(f\"❌ Error fetching inventory data: {e}\")\n",
    "        \n",
    "        \n",
    "def test_tables():\n",
    "    try:\n",
    "        response = requests.get(f\"{BASE_URL}/api/tables\")\n",
    "        response.raise_for_status()\n",
    "        print(\"\\n✅ Tables:\")\n",
    "        for record in response.json():\n",
    "            print(record)\n",
    "    except requests.exceptions.RequestException as e:\n",
    "        print(f\"❌ Error fetching inventory data: {e}\")\n"
   ]
  },
  {
   "cell_type": "code",
   "execution_count": null,
   "id": "4bb657b6",
   "metadata": {},
   "outputs": [],
   "source": [
    "table_infos = test_tables()"
   ]
  },
  {
   "cell_type": "code",
   "execution_count": 25,
   "id": "abe7f3fa",
   "metadata": {},
   "outputs": [
    {
     "name": "stdout",
     "output_type": "stream",
     "text": [
      "\n",
      "✅ Sales Data for 2024:\n",
      "[50343.2, 205084.19999999995, 327273.0000000001, 424259.6000000001, 205477.40000000002, 389137.60000000015, 326802.79999999993, 375692.39999999985, 397557.3999999999, 491170.3999999999, 385433.59999999986, 339866.4000000001]\n"
     ]
    }
   ],
   "source": [
    "test_sales(2024)"
   ]
  },
  {
   "cell_type": "code",
   "execution_count": 32,
   "id": "7594eac2",
   "metadata": {},
   "outputs": [
    {
     "name": "stdout",
     "output_type": "stream",
     "text": [
      "Failed to fetch inventory: 500\n"
     ]
    }
   ],
   "source": [
    "import requests\n",
    "\n",
    "response = requests.get(\"http://localhost:3333/api/inventory\")\n",
    "if response.status_code == 200:\n",
    "    inventory = response.json()\n",
    "    print(inventory)\n",
    "else:\n",
    "    print(\"Failed to fetch inventory:\", response.status_code)"
   ]
  },
  {
   "cell_type": "code",
   "execution_count": null,
   "id": "7cc78e21",
   "metadata": {},
   "outputs": [],
   "source": []
  },
  {
   "cell_type": "code",
   "execution_count": 2,
   "id": "83a8e5bb",
   "metadata": {},
   "outputs": [
    {
     "name": "stdout",
     "output_type": "stream",
     "text": [
      "The key date to focus on is 5/5, which has already passed, and the next significant date is 6/6. However, the most important upcoming date is **11/11 (Singles’ Day)**, known for major sales and discounts in Malaysia and globally.\n",
      "\n",
      "(##$FORCAST$##) \n",
      "\n",
      "Please choose from the four buttons for further in-depth analysis.\n"
     ]
    }
   ],
   "source": [
    "import os\n",
    "from http import HTTPStatus\n",
    "from dashscope import Application\n",
    "import dashscope\n",
    "from datetime import datetime\n",
    "\n",
    "dashscope.base_http_api_url = 'https://dashscope-intl.aliyuncs.com/api/v1'\n",
    "\n",
    "# For testing only: set your API key here (do NOT hardcode in production)\n",
    "os.environ[\"DASHSCOPE_API_KEY\"] = \"sk-545a143313614707ae22d68658e0d80a\"\n",
    "\n",
    "# Example data\n",
    "today = datetime.today().strftime('%Y-%m-%d')\n",
    "inventory = {\n",
    "    \"Product A\": 25,\n",
    "    \"Product B\": 10,\n",
    "    \"Product C\": 0\n",
    "}\n",
    "lstm = {\n",
    "    \"Product A\": 100,\n",
    "    \"Product B\": 20,\n",
    "    \"Product C\": 10\n",
    "    \n",
    "}\n",
    "\n",
    "\n",
    "# Prepare biz_params with your custom data\n",
    "biz_params = {\n",
    "    \"lstm\": lstm, \"inventory\": inventory, \"date\":today\n",
    "}\n",
    "\n",
    "prompt_text = \"I want analysis\"\n",
    "\n",
    "response = Application.call(\n",
    "    api_key=\"sk-545a143313614707ae22d68658e0d80a\",\n",
    "    app_id='a58f8b59b1ae482e8368c7ac0b23a5c6',  # replace with your actual app id\n",
    "    prompt=prompt_text,\n",
    "    biz_params=biz_params\n",
    ")\n",
    "\n",
    "if response.status_code != HTTPStatus.OK:\n",
    "    print(f'request_id={response.request_id}')\n",
    "    print(f'code={response.status_code}')\n",
    "    print(f'message={response.message}')\n",
    "    print('Refer to: https://www.alibabacloud.com/help/en/model-studio/developer-reference/error-code')\n",
    "else:\n",
    "    print(response.output.text)\n"
   ]
  },
  {
   "cell_type": "code",
   "execution_count": 4,
   "id": "92129650",
   "metadata": {},
   "outputs": [
    {
     "name": "stdout",
     "output_type": "stream",
     "text": [
      "✅ Response from chatbot:\n",
      "📦 Inventory Forecast Analysis for Today:\n",
      "\n",
      "➤ **Product A**: 10 units in stock\n",
      "\n",
      "➤ **Product B**: 3 units left — low stock!\n",
      "\n",
      "➤ **Product C**: Out of stock with 0 units\n"
     ]
    }
   ],
   "source": [
    "import requests\n",
    "\n",
    "# URL of your FastAPI service (adjust if hosted elsewhere)\n",
    "url = \"http://localhost:3333/api/chatbot/\"\n",
    "\n",
    "# Sample payload\n",
    "payload = {\n",
    "    \"prompt\": \"Give me inventory forecast analysis for today.\",\n",
    "    \"inventory\": {\n",
    "        \"Product A\": 10,\n",
    "        \"Product B\": 3,\n",
    "        \"Product C\": 0\n",
    "    },\n",
    "    \"lstm\": {\n",
    "        \"Product A\": 30,\n",
    "        \"Product B\": 20,\n",
    "        \"Product C\": 5\n",
    "    },\n",
    "    \"date\": \"2025-05-17\"\n",
    "}\n",
    "\n",
    "# Make the POST request\n",
    "response = requests.post(url, json=payload)\n",
    "\n",
    "# Print the result\n",
    "if response.status_code == 200:\n",
    "    print(\"✅ Response from chatbot:\")\n",
    "    print(response.json()[\"response\"])\n",
    "else:\n",
    "    print(\"❌ Error:\")\n",
    "    print(response.status_code)\n",
    "    print(response.text)"
   ]
  },
  {
   "cell_type": "code",
   "execution_count": null,
   "id": "23e05627",
   "metadata": {},
   "outputs": [],
   "source": []
  },
  {
   "cell_type": "code",
   "execution_count": 22,
   "id": "bd7af74b",
   "metadata": {},
   "outputs": [
    {
     "name": "stdout",
     "output_type": "stream",
     "text": [
      "Failed to fetch inventory: 500\n"
     ]
    }
   ],
   "source": [
    "import requests\n",
    "\n",
    "response = requests.get(\"http://localhost:3333/api/inventory\")\n",
    "if response.status_code == 200:\n",
    "    inventory = response.json()\n",
    "    print(inventory)\n",
    "else:\n",
    "    print(\"Failed to fetch inventory:\", response.status_code)"
   ]
  },
  {
   "cell_type": "code",
   "execution_count": null,
   "id": "32c918ae",
   "metadata": {},
   "outputs": [],
   "source": []
  },
  {
   "cell_type": "code",
   "execution_count": null,
   "id": "452389af",
   "metadata": {},
   "outputs": [],
   "source": []
  },
  {
   "cell_type": "code",
   "execution_count": null,
   "id": "26ca65c8",
   "metadata": {},
   "outputs": [],
   "source": []
  },
  {
   "cell_type": "code",
   "execution_count": null,
   "id": "e04a9adf",
   "metadata": {},
   "outputs": [],
   "source": []
  },
  {
   "cell_type": "code",
   "execution_count": null,
   "id": "c4fed008",
   "metadata": {},
   "outputs": [],
   "source": [
    "uvicorn server:app --host 0.0.0.0 --port 3333 --reload  "
   ]
  }
 ],
 "metadata": {
  "kernelspec": {
   "display_name": "python-torch",
   "language": "python",
   "name": "python3"
  },
  "language_info": {
   "codemirror_mode": {
    "name": "ipython",
    "version": 3
   },
   "file_extension": ".py",
   "mimetype": "text/x-python",
   "name": "python",
   "nbconvert_exporter": "python",
   "pygments_lexer": "ipython3",
   "version": "3.10.6"
  }
 },
 "nbformat": 4,
 "nbformat_minor": 5
}
