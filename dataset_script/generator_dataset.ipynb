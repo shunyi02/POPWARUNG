{
 "cells": [
  {
   "cell_type": "code",
   "execution_count": 1,
   "id": "cf45436e",
   "metadata": {},
   "outputs": [],
   "source": [
    "import pandas as pd\n",
    "import random\n",
    "from datetime import datetime, timedelta\n",
    "\n",
    "# Generate date range from Jan 1, 2024 to current date\n",
    "start_date = datetime(2023, 1, 1)\n",
    "end_date = datetime.now()\n",
    "date_range = pd.date_range(start=start_date, end=end_date)\n",
    "\n",
    "# Possible values\n",
    "store_ids = ['ST001', 'ST002']\n",
    "product_ids = [f'P{str(i).zfill(3)}' for i in range(1, 51)]\n",
    "user_ids = [f'U{str(i).zfill(3)}' for i in range(1, 101)] + ['']\n",
    "\n",
    "# Generate synthetic data\n",
    "records = []\n",
    "for date in date_range:\n",
    "    for _ in range(random.randint(1, 20)):  # Random number of records per day\n",
    "        record = {\n",
    "            'Date': date.strftime('%Y-%m-%d'),\n",
    "            'ProductID': random.choice(product_ids),\n",
    "            'StoreID': random.choice(store_ids),\n",
    "            'UnitsSold': random.randint(1, 10),\n",
    "            'UserID': random.choice(user_ids)\n",
    "        }\n",
    "        records.append(record)\n",
    "\n",
    "# Create DataFrame\n",
    "df = pd.DataFrame(records)\n",
    "\n",
    "# Save DataFrame to CSV\n",
    "df.to_csv(\"sales_data_2023_to_present.csv\", index=False)\n"
   ]
  },
  {
   "cell_type": "code",
   "execution_count": 3,
   "id": "5f8b5620",
   "metadata": {},
   "outputs": [
    {
     "name": "stdout",
     "output_type": "stream",
     "text": [
      "✅ sales_output.json has been created.\n"
     ]
    }
   ],
   "source": [
    "import csv\n",
    "import json\n",
    "from datetime import datetime\n",
    "\n",
    "sales_json = []\n",
    "\n",
    "with open('sales_data_new.csv', newline='') as csvfile:\n",
    "    reader = csv.DictReader(csvfile)\n",
    "    for row in reader:\n",
    "        # Format date to YYYY-MM-DD\n",
    "        date_obj = datetime.strptime(row['Date'], \"%m/%d/%Y\")\n",
    "        formatted_date = date_obj.strftime(\"%Y-%m-%d\")\n",
    "\n",
    "        sales_json.append({\n",
    "            \"Date\": formatted_date,\n",
    "            \"ProductID\": row[\"ProductID\"],\n",
    "            \"StoreID\": row[\"StoreID\"],\n",
    "            \"UserID\": row[\"UserID\"],\n",
    "            \"UnitsSold\": int(row[\"UnitsSold\"]),\n",
    "            \"Price(OfProduct)\": float(row[\"Price\"]),\n",
    "            \"TotalEarn\": float(row[\"TotalEarn\"])\n",
    "        })\n",
    "\n",
    "# Save to JSON\n",
    "with open('sales_output_new.json', 'w') as jsonfile:\n",
    "    json.dump(sales_json, jsonfile, indent=2)\n",
    "\n",
    "print(\"✅ sales_output.json has been created.\")\n"
   ]
  },
  {
   "cell_type": "code",
   "execution_count": 3,
   "id": "e54f8caf",
   "metadata": {},
   "outputs": [
    {
     "name": "stdout",
     "output_type": "stream",
     "text": [
      "✅ inventory_data.csv generated.\n"
     ]
    }
   ],
   "source": [
    "import random\n",
    "import csv\n",
    "from datetime import datetime, timedelta\n",
    "from collections import defaultdict\n",
    "\n",
    "# Configuration\n",
    "start_date = datetime(2024, 1, 1)\n",
    "end_date = datetime.today()\n",
    "\n",
    "product_ids = [f\"P{str(i).zfill(3)}\" for i in range(1, 51)]  # P001 to P050\n",
    "store_ids = [\"ST001\", \"ST002\"]\n",
    "\n",
    "# Track balance per product per store\n",
    "stock_balance = defaultdict(lambda: 0)\n",
    "\n",
    "rows = []\n",
    "\n",
    "current_date = start_date\n",
    "while current_date <= end_date:\n",
    "    for _ in range(random.randint(5, 15)):  # Simulate 5-15 transactions per day\n",
    "        product = random.choice(product_ids)\n",
    "        store = random.choice(store_ids)\n",
    "        key = (product, store)\n",
    "\n",
    "        # Restock occasionally (e.g., 10% chance)\n",
    "        qty_in = random.randint(10, 100) if random.random() < 0.1 else 0\n",
    "\n",
    "        # Sales: only sell if stock available\n",
    "        max_qty_out = stock_balance[key]\n",
    "        qty_out = random.randint(1, min(10, max_qty_out)) if max_qty_out > 0 else 0\n",
    "\n",
    "        # Update balance\n",
    "        stock_balance[key] += qty_in\n",
    "        stock_balance[key] -= qty_out\n",
    "        balance = stock_balance[key]\n",
    "\n",
    "        rows.append([\n",
    "            current_date.strftime(\"%Y-%m-%d\"),\n",
    "            product,\n",
    "            store,\n",
    "            qty_in,\n",
    "            qty_out,\n",
    "            balance\n",
    "        ])\n",
    "\n",
    "    current_date += timedelta(days=1)\n",
    "\n",
    "# Write to CSV\n",
    "with open(\"inventory_data.csv\", \"w\", newline=\"\") as f:\n",
    "    writer = csv.writer(f)\n",
    "    writer.writerow([\"Date\", \"ProductID\", \"StoreID\", \"QtyIn\", \"QtyOut\", \"Balance\"])\n",
    "    writer.writerows(rows)\n",
    "\n",
    "print(\"✅ inventory_data.csv generated.\")\n"
   ]
  },
  {
   "cell_type": "code",
   "execution_count": 4,
   "id": "431e0c9e",
   "metadata": {},
   "outputs": [
    {
     "name": "stdout",
     "output_type": "stream",
     "text": [
      "✅ inventory_data.json generated.\n"
     ]
    }
   ],
   "source": [
    "import csv\n",
    "import json\n",
    "\n",
    "# Read CSV and convert to list of dicts\n",
    "csv_file = \"inventory_data.csv\"\n",
    "json_file = \"inventory_data.json\"\n",
    "\n",
    "with open(csv_file, mode='r') as f:\n",
    "    reader = csv.DictReader(f)\n",
    "    data = []\n",
    "\n",
    "    for row in reader:\n",
    "        # Convert numeric fields to appropriate types\n",
    "        row[\"QtyIn\"] = int(row[\"QtyIn\"])\n",
    "        row[\"QtyOut\"] = int(row[\"QtyOut\"])\n",
    "        row[\"Balance\"] = int(row[\"Balance\"])\n",
    "        data.append(row)\n",
    "\n",
    "# Write to JSON\n",
    "with open(json_file, mode='w') as f:\n",
    "    json.dump(data, f, indent=2)\n",
    "\n",
    "print(\"✅ inventory_data.json generated.\")\n"
   ]
  },
  {
   "cell_type": "code",
   "execution_count": 1,
   "id": "77d3c69c",
   "metadata": {},
   "outputs": [
    {
     "name": "stdout",
     "output_type": "stream",
     "text": [
      "[✓] Sales data generated and saved to 'sales_data_new.csv'\n"
     ]
    }
   ],
   "source": [
    "import pandas as pd\n",
    "import numpy as np\n",
    "import random\n",
    "from datetime import datetime\n",
    "\n",
    "# Configurable: adjust as needed\n",
    "INVENTORY_CSV = \"inventory_data.csv\"\n",
    "SALES_CSV = \"sales_data_new.csv\"\n",
    "USER_IDS = [f\"U{str(i).zfill(3)}\" for i in range(1, 11)]  # U001 - U010\n",
    "PRICE_RANGE = (3.00, 10.00)  # RM3.00 - RM10.00\n",
    "\n",
    "# Read inventory data\n",
    "df_inventory = pd.read_csv(INVENTORY_CSV, parse_dates=[\"Date\"])\n",
    "\n",
    "# Filter dates from Jan 2024 until today\n",
    "start_date = pd.Timestamp(\"2024-01-01\")\n",
    "today = pd.Timestamp(datetime.today().date())\n",
    "df_inventory = df_inventory[(df_inventory[\"Date\"] >= start_date) & (df_inventory[\"Date\"] <= today)]\n",
    "\n",
    "# Initialize list to hold sales records\n",
    "sales_records = []\n",
    "\n",
    "for _, row in df_inventory.iterrows():\n",
    "    qty_out = int(row[\"QtyOut\"])\n",
    "    if qty_out > 0:\n",
    "        price = round(random.uniform(*PRICE_RANGE), 2)\n",
    "        total_earn = round(qty_out * price, 2)\n",
    "        sales_records.append({\n",
    "            \"Date\": row[\"Date\"].strftime(\"%Y-%m-%d\"),\n",
    "            \"ProductID\": row[\"ProductID\"],\n",
    "            \"StoreID\": row[\"StoreID\"],\n",
    "            \"UserID\": random.choice(USER_IDS),\n",
    "            \"UnitsSold\": qty_out,\n",
    "            \"Price\": price,\n",
    "            \"TotalEarn\": total_earn\n",
    "        })\n",
    "\n",
    "# Create DataFrame and save to CSV\n",
    "df_sales = pd.DataFrame(sales_records)\n",
    "df_sales.to_csv(SALES_CSV, index=False)\n",
    "\n",
    "print(f\"[✓] Sales data generated and saved to '{SALES_CSV}'\")\n"
   ]
  },
  {
   "cell_type": "code",
   "execution_count": null,
   "id": "a5745d7d",
   "metadata": {},
   "outputs": [],
   "source": []
  }
 ],
 "metadata": {
  "kernelspec": {
   "display_name": "torch-cuda-12-8",
   "language": "python",
   "name": "python3"
  },
  "language_info": {
   "codemirror_mode": {
    "name": "ipython",
    "version": 3
   },
   "file_extension": ".py",
   "mimetype": "text/x-python",
   "name": "python",
   "nbconvert_exporter": "python",
   "pygments_lexer": "ipython3",
   "version": "3.11.11"
  }
 },
 "nbformat": 4,
 "nbformat_minor": 5
}
